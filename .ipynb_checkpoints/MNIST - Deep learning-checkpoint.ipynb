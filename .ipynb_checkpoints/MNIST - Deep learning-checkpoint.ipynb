{
 "cells": [
  {
   "cell_type": "code",
   "execution_count": 1,
   "metadata": {},
   "outputs": [
    {
     "name": "stderr",
     "output_type": "stream",
     "text": [
      "Using TensorFlow backend.\n"
     ]
    }
   ],
   "source": [
    "import numpy as np\n",
    "import keras\n",
    "import matplotlib.pyplot as plt\n",
    "from keras.datasets import mnist\n",
    "from keras.optimizers import adam\n",
    "from keras.utils.np_utils import to_categorical\n",
    "from keras.models import Sequential\n",
    "from keras.layers import Dense"
   ]
  },
  {
   "cell_type": "code",
   "execution_count": 2,
   "metadata": {},
   "outputs": [],
   "source": [
    "(xtrain,ytrain),(xtest,ytest)=mnist.load_data();"
   ]
  },
  {
   "cell_type": "code",
   "execution_count": 3,
   "metadata": {},
   "outputs": [],
   "source": [
    "ytrain=to_categorical(ytrain,10);\n",
    "ytest=to_categorical(ytest,10);"
   ]
  },
  {
   "cell_type": "code",
   "execution_count": 4,
   "metadata": {},
   "outputs": [],
   "source": [
    "xtrain=xtrain/255;\n",
    "xtest=xtest/255;"
   ]
  },
  {
   "cell_type": "code",
   "execution_count": 5,
   "metadata": {},
   "outputs": [],
   "source": [
    "xtrain=xtrain.reshape(xtrain.shape[0],784)\n",
    "xtest=xtest.reshape(xtest.shape[0],784)"
   ]
  },
  {
   "cell_type": "code",
   "execution_count": 6,
   "metadata": {},
   "outputs": [
    {
     "name": "stdout",
     "output_type": "stream",
     "text": [
      "WARNING:tensorflow:From c:\\program files\\python37\\lib\\site-packages\\tensorflow\\python\\framework\\op_def_library.py:263: colocate_with (from tensorflow.python.framework.ops) is deprecated and will be removed in a future version.\n",
      "Instructions for updating:\n",
      "Colocations handled automatically by placer.\n"
     ]
    }
   ],
   "source": [
    "model=Sequential();\n",
    "model.add(Dense(28*28,input_dim=28*28,activation = 'relu'));\n",
    "model.add(Dense(28*28,activation='relu'));\n",
    "model.add(Dense(10,activation='softmax'));\n",
    "model.compile(adam(lr=0.01),loss='categorical_crossentropy',metrics=['accuracy']);"
   ]
  },
  {
   "cell_type": "code",
   "execution_count": 7,
   "metadata": {},
   "outputs": [
    {
     "name": "stdout",
     "output_type": "stream",
     "text": [
      "_________________________________________________________________\n",
      "Layer (type)                 Output Shape              Param #   \n",
      "=================================================================\n",
      "dense_1 (Dense)              (None, 784)               615440    \n",
      "_________________________________________________________________\n",
      "dense_2 (Dense)              (None, 392)               307720    \n",
      "_________________________________________________________________\n",
      "dense_3 (Dense)              (None, 10)                3930      \n",
      "=================================================================\n",
      "Total params: 927,090\n",
      "Trainable params: 927,090\n",
      "Non-trainable params: 0\n",
      "_________________________________________________________________\n",
      "None\n"
     ]
    }
   ],
   "source": [
    "print(model.summary());"
   ]
  },
  {
   "cell_type": "code",
   "execution_count": 8,
   "metadata": {},
   "outputs": [
    {
     "name": "stdout",
     "output_type": "stream",
     "text": [
      "WARNING:tensorflow:From c:\\program files\\python37\\lib\\site-packages\\tensorflow\\python\\ops\\math_ops.py:3066: to_int32 (from tensorflow.python.ops.math_ops) is deprecated and will be removed in a future version.\n",
      "Instructions for updating:\n",
      "Use tf.cast instead.\n",
      "Train on 59400 samples, validate on 600 samples\n",
      "Epoch 1/10\n",
      "59400/59400 [==============================] - 7s 117us/step - loss: 0.4204 - acc: 0.8884 - val_loss: 0.1400 - val_acc: 0.9767\n",
      "Epoch 2/10\n",
      "59400/59400 [==============================] - 7s 111us/step - loss: 0.0913 - acc: 0.9717 - val_loss: 0.1187 - val_acc: 0.9783\n",
      "Epoch 3/10\n",
      "59400/59400 [==============================] - 7s 112us/step - loss: 0.0628 - acc: 0.9802 - val_loss: 0.1287 - val_acc: 0.9800\n",
      "Epoch 4/10\n",
      "59400/59400 [==============================] - 7s 111us/step - loss: 0.0489 - acc: 0.9839 - val_loss: 0.1149 - val_acc: 0.9733\n",
      "Epoch 5/10\n",
      "59400/59400 [==============================] - 7s 113us/step - loss: 0.0402 - acc: 0.9866 - val_loss: 0.1131 - val_acc: 0.9817\n",
      "Epoch 6/10\n",
      "59400/59400 [==============================] - 7s 112us/step - loss: 0.0318 - acc: 0.9898 - val_loss: 0.1337 - val_acc: 0.9767\n",
      "Epoch 7/10\n",
      "59400/59400 [==============================] - 7s 121us/step - loss: 0.0313 - acc: 0.9897 - val_loss: 0.0949 - val_acc: 0.9833\n",
      "Epoch 8/10\n",
      "59400/59400 [==============================] - 7s 117us/step - loss: 0.0258 - acc: 0.9916 - val_loss: 0.1144 - val_acc: 0.9750\n",
      "Epoch 9/10\n",
      "59400/59400 [==============================] - 7s 114us/step - loss: 0.0300 - acc: 0.9898 - val_loss: 0.1369 - val_acc: 0.9817\n",
      "Epoch 10/10\n",
      "59400/59400 [==============================] - 7s 116us/step - loss: 0.0210 - acc: 0.9933 - val_loss: 0.1260 - val_acc: 0.9833\n"
     ]
    }
   ],
   "source": [
    "model.fit(xtrain,ytrain,validation_split=0.01,shuffle=1,epochs=10,batch_size=700,verbose=1);"
   ]
  },
  {
   "cell_type": "code",
   "execution_count": 9,
   "metadata": {},
   "outputs": [],
   "source": [
    "import cv2"
   ]
  },
  {
   "cell_type": "code",
   "execution_count": 10,
   "metadata": {},
   "outputs": [
    {
     "name": "stdout",
     "output_type": "stream",
     "text": [
      "(28, 28)\n"
     ]
    },
    {
     "data": {
      "image/png": "[encoded data removed]",
      "text/plain": [
       "<Figure size 432x288 with 1 Axes>"
      ]
     },
     "metadata": {
      "needs_background": "light"
     },
     "output_type": "display_data"
    }
   ],
   "source": [
    "image=cv2.imread('4.jpg',cv2.IMREAD_GRAYSCALE);\n",
    "image=cv2.bitwise_not(image);\n",
    "image=image[100:380,250:530]\n",
    "image=cv2.resize(image,(28,28))\n",
    "print(image.shape);\n",
    "for j in range(0,28):\n",
    "    for k in range(0,28):\n",
    "        if image[j,k]>0:\n",
    "            image[j,k]=1;\n",
    "plt.imshow(image,cmap='gray');"
   ]
  },
  {
   "cell_type": "code",
   "execution_count": 11,
   "metadata": {},
   "outputs": [],
   "source": [
    "image=image/255;\n",
    "image=image.reshape(1,28*28)"
   ]
  },
  {
   "cell_type": "code",
   "execution_count": 12,
   "metadata": {},
   "outputs": [],
   "source": [
    "p=model.predict(image)"
   ]
  },
  {
   "cell_type": "code",
   "execution_count": 13,
   "metadata": {},
   "outputs": [
    {
     "name": "stdout",
     "output_type": "stream",
     "text": [
      "0.04390\n",
      "0.04631\n",
      "0.05007\n",
      "0.07400\n",
      "0.04830\n",
      "0.26912\n",
      "0.08606\n",
      "0.07082\n",
      "0.22059\n",
      "0.09083\n"
     ]
    }
   ],
   "source": [
    "for i in range(0,10):\n",
    "    print(\"%.5f\"%p[0,i]); "
   ]
  },
  {
   "cell_type": "code",
   "execution_count": 14,
   "metadata": {},
   "outputs": [],
   "source": [
    "pr=model.predict_classes(image);"
   ]
  },
  {
   "cell_type": "code",
   "execution_count": 15,
   "metadata": {},
   "outputs": [
    {
     "name": "stdout",
     "output_type": "stream",
     "text": [
      "5\n"
     ]
    }
   ],
   "source": [
    "print(pr[0])"
   ]
  },
  {
   "cell_type": "code",
   "execution_count": 16,
   "metadata": {},
   "outputs": [
    {
     "data": {
      "image/png": "[encoded data removed]",
      "text/plain": [
       "<Figure size 432x288 with 1 Axes>"
      ]
     },
     "metadata": {
      "needs_background": "light"
     },
     "output_type": "display_data"
    }
   ],
   "source": [
    "i=cv2.imread('2.jpg',cv2.IMREAD_GRAYSCALE);\n",
    "i=i[60:400,230:570];\n",
    "i=cv2.bitwise_not(i);\n",
    "i=cv2.resize(i,(28,28))\n",
    "for j in range(0,28):\n",
    "    for k in range(0,28):\n",
    "        if i[j,k]>0:\n",
    "            i[j,k]=1;\n",
    "plt.imshow(i,cmap='gray');"
   ]
  },
  {
   "cell_type": "code",
   "execution_count": 17,
   "metadata": {},
   "outputs": [],
   "source": [
    "i=i/255;\n",
    "im=i.reshape(1,28*28);"
   ]
  },
  {
   "cell_type": "code",
   "execution_count": 18,
   "metadata": {},
   "outputs": [],
   "source": [
    "pred=model.predict(im);"
   ]
  },
  {
   "cell_type": "code",
   "execution_count": 19,
   "metadata": {},
   "outputs": [
    {
     "name": "stdout",
     "output_type": "stream",
     "text": [
      "0.04480\n",
      "0.05204\n",
      "0.05615\n",
      "0.07752\n",
      "0.04456\n",
      "0.27751\n",
      "0.09783\n",
      "0.06130\n",
      "0.20851\n",
      "0.07980\n"
     ]
    }
   ],
   "source": [
    "for i in range(0,10):\n",
    "    print(\"%.5f\"%pred[0,i]); "
   ]
  },
  {
   "cell_type": "code",
   "execution_count": 20,
   "metadata": {},
   "outputs": [
    {
     "name": "stdout",
     "output_type": "stream",
     "text": [
      "5\n"
     ]
    }
   ],
   "source": [
    "pre=model.predict_classes(im);\n",
    "print(pre[0]);"
   ]
  },
  {
   "cell_type": "code",
   "execution_count": null,
   "metadata": {},
   "outputs": [],
   "source": []
  },
  {
   "cell_type": "code",
   "execution_count": null,
   "metadata": {},
   "outputs": [],
   "source": []
  }
 ],
 "metadata": {
  "kernelspec": {
   "display_name": "Python 3",
   "language": "python",
   "name": "python3"
  },
  "language_info": {
   "codemirror_mode": {
    "name": "ipython",
    "version": 3
   },
   "file_extension": ".py",
   "mimetype": "text/x-python",
   "name": "python",
   "nbconvert_exporter": "python",
   "pygments_lexer": "ipython3",
   "version": "3.7.0"
  }
 },
 "nbformat": 4,
 "nbformat_minor": 2
}
