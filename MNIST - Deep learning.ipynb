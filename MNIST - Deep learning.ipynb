{
 "cells": [
  {
   "cell_type": "code",
   "execution_count": 1,
   "metadata": {},
   "outputs": [
    {
     "name": "stderr",
     "output_type": "stream",
     "text": [
      "Using TensorFlow backend.\n"
     ]
    }
   ],
   "source": [
    "import numpy as np\n",
    "import keras\n",
    "import matplotlib.pyplot as plt\n",
    "from keras.datasets import mnist\n",
    "from keras.optimizers import adam\n",
    "from keras.utils.np_utils import to_categorical\n",
    "from keras.models import Sequential\n",
    "from keras.layers import Dense\n",
    "from keras.layers.convolutional import MaxPooling2D"
   ]
  },
  {
   "cell_type": "code",
   "execution_count": 2,
   "metadata": {},
   "outputs": [],
   "source": [
    "(xtrain,ytrain),(xtest,ytest)=mnist.load_data();"
   ]
  },
  {
   "cell_type": "code",
   "execution_count": 3,
   "metadata": {},
   "outputs": [],
   "source": [
    "ytrain=to_categorical(ytrain,10);\n",
    "ytest=to_categorical(ytest,10);"
   ]
  },
  {
   "cell_type": "code",
   "execution_count": 4,
   "metadata": {},
   "outputs": [],
   "source": [
    "xtrain=xtrain/255;\n",
    "xtest=xtest/255;"
   ]
  },
  {
   "cell_type": "code",
   "execution_count": 5,
   "metadata": {},
   "outputs": [],
   "source": [
    "xtrain=xtrain.reshape(xtrain.shape[0],784)\n",
    "xtest=xtest.reshape(xtest.shape[0],784)"
   ]
  },
  {
   "cell_type": "code",
   "execution_count": 6,
   "metadata": {},
   "outputs": [
    {
     "name": "stdout",
     "output_type": "stream",
     "text": [
      "WARNING:tensorflow:From c:\\program files\\python37\\lib\\site-packages\\tensorflow\\python\\framework\\op_def_library.py:263: colocate_with (from tensorflow.python.framework.ops) is deprecated and will be removed in a future version.\n",
      "Instructions for updating:\n",
      "Colocations handled automatically by placer.\n"
     ]
    }
   ],
   "source": [
    "model=Sequential();\n",
    "model.add(Dense(28*28,input_dim=28*28,activation = 'relu'));\n",
    "model.add(Dense(28*28,activation='relu'));\n",
    "model.add(Dense(10,activation='softmax'));\n",
    "model.compile(adam(lr=0.01),loss='categorical_crossentropy',metrics=['accuracy']);"
   ]
  },
  {
   "cell_type": "code",
   "execution_count": 7,
   "metadata": {},
   "outputs": [
    {
     "name": "stdout",
     "output_type": "stream",
     "text": [
      "_________________________________________________________________\n",
      "Layer (type)                 Output Shape              Param #   \n",
      "=================================================================\n",
      "dense_1 (Dense)              (None, 784)               615440    \n",
      "_________________________________________________________________\n",
      "dense_2 (Dense)              (None, 784)               615440    \n",
      "_________________________________________________________________\n",
      "dense_3 (Dense)              (None, 10)                7850      \n",
      "=================================================================\n",
      "Total params: 1,238,730\n",
      "Trainable params: 1,238,730\n",
      "Non-trainable params: 0\n",
      "_________________________________________________________________\n",
      "None\n"
     ]
    }
   ],
   "source": [
    "print(model.summary());"
   ]
  },
  {
   "cell_type": "code",
   "execution_count": 8,
   "metadata": {},
   "outputs": [
    {
     "name": "stdout",
     "output_type": "stream",
     "text": [
      "WARNING:tensorflow:From c:\\program files\\python37\\lib\\site-packages\\tensorflow\\python\\ops\\math_ops.py:3066: to_int32 (from tensorflow.python.ops.math_ops) is deprecated and will be removed in a future version.\n",
      "Instructions for updating:\n",
      "Use tf.cast instead.\n",
      "Train on 54000 samples, validate on 6000 samples\n",
      "Epoch 1/10\n",
      "54000/54000 [==============================] - 9s 162us/step - loss: 0.6849 - acc: 0.8592 - val_loss: 0.1177 - val_acc: 0.9657\n",
      "Epoch 2/10\n",
      "54000/54000 [==============================] - 8s 147us/step - loss: 0.1149 - acc: 0.9647 - val_loss: 0.1011 - val_acc: 0.9702\n",
      "Epoch 3/10\n",
      "54000/54000 [==============================] - 8s 147us/step - loss: 0.0797 - acc: 0.9755 - val_loss: 0.0941 - val_acc: 0.9713\n",
      "Epoch 4/10\n",
      "54000/54000 [==============================] - 8s 150us/step - loss: 0.0656 - acc: 0.9794 - val_loss: 0.0849 - val_acc: 0.9750\n",
      "Epoch 5/10\n",
      "54000/54000 [==============================] - 9s 161us/step - loss: 0.0520 - acc: 0.9832 - val_loss: 0.0878 - val_acc: 0.9763\n",
      "Epoch 6/10\n",
      "54000/54000 [==============================] - 9s 162us/step - loss: 0.0490 - acc: 0.9846 - val_loss: 0.0880 - val_acc: 0.9735\n",
      "Epoch 7/10\n",
      "54000/54000 [==============================] - 9s 157us/step - loss: 0.0436 - acc: 0.9856 - val_loss: 0.0827 - val_acc: 0.9775\n",
      "Epoch 8/10\n",
      "54000/54000 [==============================] - 9s 164us/step - loss: 0.0298 - acc: 0.9901 - val_loss: 0.1119 - val_acc: 0.9745\n",
      "Epoch 9/10\n",
      "54000/54000 [==============================] - 9s 165us/step - loss: 0.0391 - acc: 0.9875 - val_loss: 0.0972 - val_acc: 0.9745\n",
      "Epoch 10/10\n",
      "54000/54000 [==============================] - 9s 166us/step - loss: 0.0353 - acc: 0.9889 - val_loss: 0.0934 - val_acc: 0.9772\n"
     ]
    }
   ],
   "source": [
    "model.fit(xtrain,ytrain,validation_split=0.1,shuffle=1,epochs=10,batch_size=700,verbose=1);"
   ]
  },
  {
   "cell_type": "code",
   "execution_count": 9,
   "metadata": {},
   "outputs": [],
   "source": [
    "import cv2"
   ]
  },
  {
   "cell_type": "code",
   "execution_count": 10,
   "metadata": {},
   "outputs": [
    {
     "name": "stdout",
     "output_type": "stream",
     "text": [
      "(28, 28)\n"
     ]
    },
    {
     "data": {
      "image/png": "[encoded data removed]",
      "text/plain": [
       "<Figure size 432x288 with 1 Axes>"
      ]
     },
     "metadata": {
      "needs_background": "light"
     },
     "output_type": "display_data"
    }
   ],
   "source": [
    "image=cv2.imread('1.jpg',cv2.IMREAD_GRAYSCALE);\n",
    "image=cv2.bitwise_not(image);\n",
    "image=image[100:380,250:530]\n",
    "image=cv2.resize(image,(28,28))\n",
    "print(image.shape);\n",
    "plt.imshow(image,cmap='gray');"
   ]
  },
  {
   "cell_type": "code",
   "execution_count": 11,
   "metadata": {},
   "outputs": [],
   "source": [
    "image=image/255;\n",
    "image=image.reshape(1,28*28)"
   ]
  },
  {
   "cell_type": "code",
   "execution_count": 12,
   "metadata": {},
   "outputs": [],
   "source": [
    "p=model.predict(image)"
   ]
  },
  {
   "cell_type": "code",
   "execution_count": 13,
   "metadata": {},
   "outputs": [
    {
     "name": "stdout",
     "output_type": "stream",
     "text": [
      "0.00000\n",
      "0.00000\n",
      "0.00000\n",
      "0.00000\n",
      "0.00000\n",
      "1.00000\n",
      "0.00000\n",
      "0.00000\n",
      "0.00000\n",
      "0.00000\n"
     ]
    }
   ],
   "source": [
    "for i in range(0,10):\n",
    "    print(\"%.5f\"%p[0,i]); "
   ]
  },
  {
   "cell_type": "code",
   "execution_count": 35,
   "metadata": {},
   "outputs": [],
   "source": [
    "pr=model.predict_classes(image);"
   ]
  },
  {
   "cell_type": "code",
   "execution_count": 36,
   "metadata": {},
   "outputs": [
    {
     "name": "stdout",
     "output_type": "stream",
     "text": [
      "5\n"
     ]
    }
   ],
   "source": [
    "print(pr[0])"
   ]
  },
  {
   "cell_type": "code",
   "execution_count": 37,
   "metadata": {},
   "outputs": [
    {
     "data": {
      "image/png": "[encoded data removed]",
      "text/plain": [
       "<Figure size 432x288 with 1 Axes>"
      ]
     },
     "metadata": {
      "needs_background": "light"
     },
     "output_type": "display_data"
    }
   ],
   "source": [
    "i=cv2.imread('2.jpg',cv2.IMREAD_GRAYSCALE);\n",
    "i=i[60:400,230:570];\n",
    "i=cv2.bitwise_not(i);\n",
    "i=cv2.resize(i,(28,28))\n",
    "plt.imshow(i,cmap='gray');"
   ]
  },
  {
   "cell_type": "code",
   "execution_count": 38,
   "metadata": {},
   "outputs": [],
   "source": [
    "i=i/255;\n",
    "im=i.reshape(1,28*28);"
   ]
  },
  {
   "cell_type": "code",
   "execution_count": 39,
   "metadata": {},
   "outputs": [],
   "source": [
    "pred=model.predict(im);"
   ]
  },
  {
   "cell_type": "code",
   "execution_count": 40,
   "metadata": {},
   "outputs": [
    {
     "name": "stdout",
     "output_type": "stream",
     "text": [
      "0.00000\n",
      "0.14061\n",
      "0.84616\n",
      "0.00000\n",
      "0.00002\n",
      "0.00000\n",
      "0.01320\n",
      "0.00001\n",
      "0.00000\n",
      "0.00000\n"
     ]
    }
   ],
   "source": [
    "for i in range(0,10):\n",
    "    print(\"%.5f\"%pred[0,i]); "
   ]
  },
  {
   "cell_type": "code",
   "execution_count": 41,
   "metadata": {},
   "outputs": [
    {
     "name": "stdout",
     "output_type": "stream",
     "text": [
      "2\n"
     ]
    }
   ],
   "source": [
    "pre=model.predict_classes(im);\n",
    "print(pre[0]);"
   ]
  }
 ],
 "metadata": {
  "kernelspec": {
   "display_name": "Python 3",
   "language": "python",
   "name": "python3"
  },
  "language_info": {
   "codemirror_mode": {
    "name": "ipython",
    "version": 3
   },
   "file_extension": ".py",
   "mimetype": "text/x-python",
   "name": "python",
   "nbconvert_exporter": "python",
   "pygments_lexer": "ipython3",
   "version": "3.7.0"
  }
 },
 "nbformat": 4,
 "nbformat_minor": 2
}
