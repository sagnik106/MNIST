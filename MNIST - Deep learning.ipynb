{
 "cells": [
  {
   "cell_type": "code",
   "execution_count": 1,
   "metadata": {},
   "outputs": [
    {
     "name": "stderr",
     "output_type": "stream",
     "text": [
      "Using TensorFlow backend.\n"
     ]
    }
   ],
   "source": [
    "import numpy as np\n",
    "import keras\n",
    "import matplotlib.pyplot as plt\n",
    "from keras.datasets import mnist\n",
    "from keras.optimizers import adam\n",
    "from keras.utils.np_utils import to_categorical\n",
    "from keras.models import Sequential\n",
    "from keras.layers import Dense"
   ]
  },
  {
   "cell_type": "code",
   "execution_count": 2,
   "metadata": {},
   "outputs": [],
   "source": [
    "(xtrain,ytrain),(xtest,ytest)=mnist.load_data();"
   ]
  },
  {
   "cell_type": "code",
   "execution_count": 3,
   "metadata": {},
   "outputs": [],
   "source": [
    "ytrain=to_categorical(ytrain,10);\n",
    "ytest=to_categorical(ytest,10);"
   ]
  },
  {
   "cell_type": "code",
   "execution_count": 4,
   "metadata": {},
   "outputs": [],
   "source": [
    "xtrain=xtrain/255;\n",
    "xtest=xtest/255;"
   ]
  },
  {
   "cell_type": "code",
   "execution_count": 5,
   "metadata": {},
   "outputs": [],
   "source": [
    "xtrain=xtrain.reshape(xtrain.shape[0],784)\n",
    "xtest=xtest.reshape(xtest.shape[0],784)"
   ]
  },
  {
   "cell_type": "code",
   "execution_count": 67,
   "metadata": {},
   "outputs": [],
   "source": [
    "model=Sequential();\n",
    "model.add(Dense(28*28,input_dim=28*28,activation = 'relu'));\n",
    "model.add(Dense(28*28,activation='relu'));\n",
    "#model.add(Dense(28*28,activation='relu'));\n",
    "model.add(Dense(28*28,activation='relu'));\n",
    "model.add(Dense(10,activation='softmax'));\n",
    "model.compile(adam(lr=0.01),loss='categorical_crossentropy',metrics=['accuracy']);"
   ]
  },
  {
   "cell_type": "code",
   "execution_count": 68,
   "metadata": {},
   "outputs": [
    {
     "name": "stdout",
     "output_type": "stream",
     "text": [
      "_________________________________________________________________\n",
      "Layer (type)                 Output Shape              Param #   \n",
      "=================================================================\n",
      "dense_11 (Dense)             (None, 784)               615440    \n",
      "_________________________________________________________________\n",
      "dense_12 (Dense)             (None, 784)               615440    \n",
      "_________________________________________________________________\n",
      "dense_13 (Dense)             (None, 784)               615440    \n",
      "_________________________________________________________________\n",
      "dense_14 (Dense)             (None, 10)                7850      \n",
      "=================================================================\n",
      "Total params: 1,854,170\n",
      "Trainable params: 1,854,170\n",
      "Non-trainable params: 0\n",
      "_________________________________________________________________\n",
      "None\n"
     ]
    }
   ],
   "source": [
    "print(model.summary());"
   ]
  },
  {
   "cell_type": "code",
   "execution_count": 69,
   "metadata": {},
   "outputs": [
    {
     "name": "stdout",
     "output_type": "stream",
     "text": [
      "Epoch 1/10\n",
      "60000/60000 [==============================] - 44s 741us/step - loss: 0.5674 - acc: 0.8860\n",
      "Epoch 2/10\n",
      "60000/60000 [==============================] - 48s 800us/step - loss: 0.2021 - acc: 0.9466\n",
      "Epoch 3/10\n",
      "60000/60000 [==============================] - 54s 904us/step - loss: 0.1819 - acc: 0.9517\n",
      "Epoch 4/10\n",
      "60000/60000 [==============================] - 60s 998us/step - loss: 0.1518 - acc: 0.9596\n",
      "Epoch 5/10\n",
      "60000/60000 [==============================] - 60s 1ms/step - loss: 0.1392 - acc: 0.9639\n",
      "Epoch 6/10\n",
      "60000/60000 [==============================] - 58s 972us/step - loss: 0.1333 - acc: 0.9656\n",
      "Epoch 7/10\n",
      "60000/60000 [==============================] - 60s 994us/step - loss: 0.1231 - acc: 0.9679\n",
      "Epoch 8/10\n",
      "60000/60000 [==============================] - 52s 874us/step - loss: 0.1236 - acc: 0.9685\n",
      "Epoch 9/10\n",
      "60000/60000 [==============================] - 50s 833us/step - loss: 0.1140 - acc: 0.9697\n",
      "Epoch 10/10\n",
      "60000/60000 [==============================] - 50s 831us/step - loss: 0.1043 - acc: 0.9727\n"
     ]
    }
   ],
   "source": [
    "model.fit(xtrain,ytrain,validation_split=0,shuffle=0,epochs=10,batch_size=100,verbose=1);"
   ]
  },
  {
   "cell_type": "code",
   "execution_count": 70,
   "metadata": {},
   "outputs": [],
   "source": [
    "import cv2"
   ]
  },
  {
   "cell_type": "code",
   "execution_count": 71,
   "metadata": {},
   "outputs": [
    {
     "name": "stdout",
     "output_type": "stream",
     "text": [
      "(28, 28)\n"
     ]
    },
    {
     "data": {
      "image/png": "[encoded data removed]",
      "text/plain": [
       "<Figure size 432x288 with 1 Axes>"
      ]
     },
     "metadata": {
      "needs_background": "light"
     },
     "output_type": "display_data"
    }
   ],
   "source": [
    "image=cv2.imread('6.jpg',cv2.IMREAD_GRAYSCALE);\n",
    "image=cv2.bitwise_not(image);\n",
    "image=image[50:380,230:560]\n",
    "image=cv2.resize(image,(28,28))\n",
    "print(image.shape);\n",
    "plt.imshow(image,cmap='gray');"
   ]
  },
  {
   "cell_type": "code",
   "execution_count": 72,
   "metadata": {},
   "outputs": [],
   "source": [
    "image=image/255;\n",
    "image=image.reshape(1,28*28)"
   ]
  },
  {
   "cell_type": "code",
   "execution_count": 73,
   "metadata": {},
   "outputs": [],
   "source": [
    "p=model.predict(image)"
   ]
  },
  {
   "cell_type": "code",
   "execution_count": 74,
   "metadata": {},
   "outputs": [
    {
     "name": "stdout",
     "output_type": "stream",
     "text": [
      "0.00306\n",
      "0.00072\n",
      "0.00001\n",
      "0.00125\n",
      "0.00262\n",
      "0.31657\n",
      "0.64972\n",
      "0.00000\n",
      "0.02034\n",
      "0.00570\n"
     ]
    }
   ],
   "source": [
    "for i in range(0,10):\n",
    "    print(\"%.5f\"%p[0,i]); "
   ]
  },
  {
   "cell_type": "code",
   "execution_count": 75,
   "metadata": {},
   "outputs": [],
   "source": [
    "pr=model.predict_classes(image);"
   ]
  },
  {
   "cell_type": "code",
   "execution_count": 76,
   "metadata": {},
   "outputs": [
    {
     "name": "stdout",
     "output_type": "stream",
     "text": [
      "6\n"
     ]
    }
   ],
   "source": [
    "print(pr[0])"
   ]
  },
  {
   "cell_type": "code",
   "execution_count": 77,
   "metadata": {},
   "outputs": [
    {
     "data": {
      "image/png": "[encoded data removed]",
      "text/plain": [
       "<Figure size 432x288 with 1 Axes>"
      ]
     },
     "metadata": {
      "needs_background": "light"
     },
     "output_type": "display_data"
    }
   ],
   "source": [
    "i=cv2.imread('7.jpg',cv2.IMREAD_GRAYSCALE);\n",
    "i=i[60:400,230:570];\n",
    "i=cv2.bitwise_not(i);\n",
    "i=cv2.resize(i,(28,28))\n",
    "plt.imshow(i,cmap='gray');"
   ]
  },
  {
   "cell_type": "code",
   "execution_count": 78,
   "metadata": {},
   "outputs": [],
   "source": [
    "i=i/255;\n",
    "im=i.reshape(1,28*28);"
   ]
  },
  {
   "cell_type": "code",
   "execution_count": 79,
   "metadata": {},
   "outputs": [],
   "source": [
    "pred=model.predict(im);"
   ]
  },
  {
   "cell_type": "code",
   "execution_count": 80,
   "metadata": {},
   "outputs": [
    {
     "name": "stdout",
     "output_type": "stream",
     "text": [
      "0.00069\n",
      "0.56137\n",
      "0.22261\n",
      "0.00618\n",
      "0.01069\n",
      "0.00765\n",
      "0.00617\n",
      "0.11550\n",
      "0.06876\n",
      "0.00038\n"
     ]
    }
   ],
   "source": [
    "for i in range(0,10):\n",
    "    print(\"%.5f\"%pred[0,i]); "
   ]
  },
  {
   "cell_type": "code",
   "execution_count": 81,
   "metadata": {},
   "outputs": [
    {
     "name": "stdout",
     "output_type": "stream",
     "text": [
      "1\n"
     ]
    }
   ],
   "source": [
    "pre=model.predict_classes(im);\n",
    "print(pre[0]);"
   ]
  },
  {
   "cell_type": "code",
   "execution_count": null,
   "metadata": {},
   "outputs": [],
   "source": []
  }
 ],
 "metadata": {
  "kernelspec": {
   "display_name": "Python 3",
   "language": "python",
   "name": "python3"
  },
  "language_info": {
   "codemirror_mode": {
    "name": "ipython",
    "version": 3
   },
   "file_extension": ".py",
   "mimetype": "text/x-python",
   "name": "python",
   "nbconvert_exporter": "python",
   "pygments_lexer": "ipython3",
   "version": "3.7.0"
  }
 },
 "nbformat": 4,
 "nbformat_minor": 2
}
